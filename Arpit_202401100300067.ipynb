{
  "nbformat": 4,
  "nbformat_minor": 0,
  "metadata": {
    "colab": {
      "provenance": []
    },
    "kernelspec": {
      "name": "python3",
      "display_name": "Python 3"
    },
    "language_info": {
      "name": "python"
    }
  },
  "cells": [
    {
      "cell_type": "code",
      "source": [
        "import heapq\n",
        "\n",
        "# Define the grid size\n",
        "ROWS, COLS = 5, 5\n",
        "\n",
        "# Directions for moving: right, left, down, up\n",
        "DIRECTIONS = [(0, 1), (0, -1), (1, 0), (-1, 0)]\n",
        "\n",
        "class Node:\n",
        "    def __init__(self, row, col):\n",
        "        self.row, self.col = row, col\n",
        "        self.g = float(\"inf\")  # Cost from start to current node\n",
        "        self.h = 0  # Heuristic cost to goal\n",
        "        self.f = float(\"inf\")  # Total cost\n",
        "        self.parent = None  # Parent node for path tracking\n",
        "\n",
        "    def __lt__(self, other):\n",
        "        return self.f < other.f  # Comparison for priority queue\n",
        "\n",
        "def heuristic(a, b):\n",
        "    \"\"\" Manhattan Distance heuristic \"\"\"\n",
        "    return abs(a.row - b.row) + abs(a.col - b.col)\n",
        "\n",
        "def a_star(grid, start, goal):\n",
        "    open_set = []\n",
        "    heapq.heappush(open_set, (0, start))  # Push start node\n",
        "    start.g, start.h, start.f = 0, heuristic(start, goal), heuristic(start, goal)\n",
        "\n",
        "    while open_set:\n",
        "        current = heapq.heappop(open_set)[1]\n",
        "\n",
        "        # Goal reached\n",
        "        if current == goal:\n",
        "            path = []\n",
        "            while current:\n",
        "                path.append((current.row, current.col))\n",
        "                current = current.parent\n",
        "            return path[::-1]  # Reverse path\n",
        "\n",
        "        # Check neighbors\n",
        "        for dr, dc in DIRECTIONS:\n",
        "            r, c = current.row + dr, current.col + dc\n",
        "            if 0 <= r < ROWS and 0 <= c < COLS:  # Within bounds\n",
        "                neighbor = grid[r][c]\n",
        "                temp_g = current.g + 1\n",
        "\n",
        "                if temp_g < neighbor.g:  # Found a better path\n",
        "                    neighbor.g, neighbor.h = temp_g, heuristic(neighbor, goal)\n",
        "                    neighbor.f = neighbor.g + neighbor.h\n",
        "                    neighbor.parent = current\n",
        "                    heapq.heappush(open_set, (neighbor.f, neighbor))\n",
        "\n",
        "    return None  # No path found\n",
        "\n",
        "# Create grid\n",
        "grid = [[Node(r, c) for c in range(COLS)] for r in range(ROWS)]\n",
        "start, goal = grid[0][0], grid[ROWS - 1][COLS - 1]\n",
        "\n",
        "# Run A* Algorithm\n",
        "path = a_star(grid, start, goal)\n",
        "\n",
        "# Print the path\n",
        "if path:\n",
        "    print(\"Path found:\", path)\n",
        "else:\n",
        "    print(\"No path found\")\n"
      ],
      "metadata": {
        "colab": {
          "base_uri": "https://localhost:8080/"
        },
        "id": "I0iEPtwgpdfC",
        "outputId": "63173f83-4605-455b-c8ca-33bd8ebdac1b"
      },
      "execution_count": 11,
      "outputs": [
        {
          "output_type": "stream",
          "name": "stdout",
          "text": [
            "Path found: [(0, 0), (0, 1), (0, 2), (0, 3), (1, 3), (2, 3), (2, 4), (3, 4), (4, 4)]\n"
          ]
        }
      ]
    },
    {
      "cell_type": "code",
      "source": [
        "# prompt: visualize it\n",
        "\n",
        "import matplotlib.pyplot as plt\n",
        "\n",
        "# ... (Your existing code) ...\n",
        "\n",
        "# Visualize the grid and path\n",
        "if path:\n",
        "    grid_visualization = [[0 for _ in range(COLS)] for _ in range(ROWS)]\n",
        "    for r, c in path:\n",
        "        grid_visualization[r][c] = 1  # Mark path\n",
        "\n",
        "    plt.imshow(grid_visualization, cmap='gray')\n",
        "    plt.title('A* Pathfinding')\n",
        "    plt.xlabel('Columns')\n",
        "    plt.ylabel('Rows')\n",
        "    plt.show()\n",
        "else:\n",
        "    print(\"No path found, cannot visualize.\")\n"
      ],
      "metadata": {
        "colab": {
          "base_uri": "https://localhost:8080/",
          "height": 472
        },
        "id": "KOce00NVpf7R",
        "outputId": "dd50b3e7-55f1-4692-bf09-c2a4880c4b40"
      },
      "execution_count": 12,
      "outputs": [
        {
          "output_type": "display_data",
          "data": {
            "text/plain": [
              "<Figure size 640x480 with 1 Axes>"
            ],
            "image/png": "[encoded data removed]"
          },
          "metadata": {}
        }
      ]
    }
  ]
}